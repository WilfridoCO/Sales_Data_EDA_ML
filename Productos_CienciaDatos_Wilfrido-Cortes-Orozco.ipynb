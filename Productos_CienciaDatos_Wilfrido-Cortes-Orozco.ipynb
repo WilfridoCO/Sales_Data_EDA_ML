{
 "cells": [
  {
   "cell_type": "markdown",
   "id": "7557a2bf",
   "metadata": {},
   "source": [
    "# Encontrar los siguientes conjuntos de datos y presentarlos de una manera conveniente."
   ]
  },
  {
   "cell_type": "markdown",
   "id": "70a9c883",
   "metadata": {},
   "source": [
    "### Sección de importación."
   ]
  },
  {
   "cell_type": "code",
   "execution_count": 1,
   "id": "29498bff",
   "metadata": {},
   "outputs": [],
   "source": [
    "import pandas as pd\n",
    "import seaborn as sns\n",
    "import matplotlib.pyplot as plt\n",
    "import numpy as np\n",
    "from sklearn.linear_model import LinearRegression\n",
    "from sklearn.preprocessing import PolynomialFeatures\n",
    "import sqlite3"
   ]
  },
  {
   "cell_type": "code",
   "execution_count": 2,
   "id": "edacccb3",
   "metadata": {},
   "outputs": [
    {
     "name": "stdout",
     "output_type": "stream",
     "text": [
      "<class 'pandas.core.frame.DataFrame'>\n",
      "DatetimeIndex: 185950 entries, 2019-01-22 21:25:00 to 2019-12-21 21:45:00\n",
      "Data columns (total 10 columns):\n",
      " #   Column            Non-Null Count   Dtype  \n",
      "---  ------            --------------   -----  \n",
      " 0   Order ID          185950 non-null  int64  \n",
      " 1   Product           185950 non-null  object \n",
      " 2   Product_ean       185950 non-null  float64\n",
      " 3   catégorie         185950 non-null  object \n",
      " 4   Purchase Address  185950 non-null  object \n",
      " 5   Quantity Ordered  185950 non-null  int64  \n",
      " 6   Price Each        185950 non-null  float64\n",
      " 7   Cost price        185950 non-null  float64\n",
      " 8   turnover          185950 non-null  float64\n",
      " 9   margin            185950 non-null  float64\n",
      "dtypes: float64(5), int64(2), object(3)\n",
      "memory usage: 15.6+ MB\n",
      "None\n"
     ]
    }
   ],
   "source": [
    "# Carga del dataframe, asignación de fechas como índice e inferencia de las fechas.\n",
    "df = pd.read_csv(\"sales_data.csv\", parse_dates=[\"Order Date\"], infer_datetime_format=True, index_col=\"Order Date\")\n",
    "print(df.info())"
   ]
  },
  {
   "cell_type": "code",
   "execution_count": 3,
   "id": "cb9a712f",
   "metadata": {},
   "outputs": [
    {
     "data": {
      "text/html": [
       "<div>\n",
       "<style scoped>\n",
       "    .dataframe tbody tr th:only-of-type {\n",
       "        vertical-align: middle;\n",
       "    }\n",
       "\n",
       "    .dataframe tbody tr th {\n",
       "        vertical-align: top;\n",
       "    }\n",
       "\n",
       "    .dataframe thead th {\n",
       "        text-align: right;\n",
       "    }\n",
       "</style>\n",
       "<table border=\"1\" class=\"dataframe\">\n",
       "  <thead>\n",
       "    <tr style=\"text-align: right;\">\n",
       "      <th></th>\n",
       "      <th>Order ID</th>\n",
       "      <th>Product</th>\n",
       "      <th>Product_ean</th>\n",
       "      <th>catégorie</th>\n",
       "      <th>Purchase Address</th>\n",
       "      <th>Quantity Ordered</th>\n",
       "      <th>Price Each</th>\n",
       "      <th>Cost price</th>\n",
       "      <th>turnover</th>\n",
       "      <th>margin</th>\n",
       "    </tr>\n",
       "    <tr>\n",
       "      <th>Order Date</th>\n",
       "      <th></th>\n",
       "      <th></th>\n",
       "      <th></th>\n",
       "      <th></th>\n",
       "      <th></th>\n",
       "      <th></th>\n",
       "      <th></th>\n",
       "      <th></th>\n",
       "      <th></th>\n",
       "      <th></th>\n",
       "    </tr>\n",
       "  </thead>\n",
       "  <tbody>\n",
       "    <tr>\n",
       "      <th>2019-01-22 21:25:00</th>\n",
       "      <td>141234</td>\n",
       "      <td>iPhone</td>\n",
       "      <td>5.638009e+12</td>\n",
       "      <td>Vêtements</td>\n",
       "      <td>944 Walnut St, Boston, MA 02215</td>\n",
       "      <td>1</td>\n",
       "      <td>700.00</td>\n",
       "      <td>231.0000</td>\n",
       "      <td>700.00</td>\n",
       "      <td>469.0000</td>\n",
       "    </tr>\n",
       "    <tr>\n",
       "      <th>2019-01-28 14:15:00</th>\n",
       "      <td>141235</td>\n",
       "      <td>Lightning Charging Cable</td>\n",
       "      <td>5.563320e+12</td>\n",
       "      <td>Alimentation</td>\n",
       "      <td>185 Maple St, Portland, OR 97035</td>\n",
       "      <td>1</td>\n",
       "      <td>14.95</td>\n",
       "      <td>7.4750</td>\n",
       "      <td>14.95</td>\n",
       "      <td>7.4750</td>\n",
       "    </tr>\n",
       "    <tr>\n",
       "      <th>2019-01-17 13:33:00</th>\n",
       "      <td>141236</td>\n",
       "      <td>Wired Headphones</td>\n",
       "      <td>2.113973e+12</td>\n",
       "      <td>Vêtements</td>\n",
       "      <td>538 Adams St, San Francisco, CA 94016</td>\n",
       "      <td>2</td>\n",
       "      <td>11.99</td>\n",
       "      <td>5.9950</td>\n",
       "      <td>23.98</td>\n",
       "      <td>11.9900</td>\n",
       "    </tr>\n",
       "    <tr>\n",
       "      <th>2019-01-05 20:33:00</th>\n",
       "      <td>141237</td>\n",
       "      <td>27in FHD Monitor</td>\n",
       "      <td>3.069157e+12</td>\n",
       "      <td>Sports</td>\n",
       "      <td>738 10th St, Los Angeles, CA 90001</td>\n",
       "      <td>1</td>\n",
       "      <td>149.99</td>\n",
       "      <td>97.4935</td>\n",
       "      <td>149.99</td>\n",
       "      <td>52.4965</td>\n",
       "    </tr>\n",
       "    <tr>\n",
       "      <th>2019-01-25 11:59:00</th>\n",
       "      <td>141238</td>\n",
       "      <td>Wired Headphones</td>\n",
       "      <td>9.692681e+12</td>\n",
       "      <td>Électronique</td>\n",
       "      <td>387 10th St, Austin, TX 73301</td>\n",
       "      <td>1</td>\n",
       "      <td>11.99</td>\n",
       "      <td>5.9950</td>\n",
       "      <td>11.99</td>\n",
       "      <td>5.9950</td>\n",
       "    </tr>\n",
       "    <tr>\n",
       "      <th>2019-01-29 20:22:00</th>\n",
       "      <td>141239</td>\n",
       "      <td>AAA Batteries (4-pack)</td>\n",
       "      <td>2.953869e+12</td>\n",
       "      <td>Alimentation</td>\n",
       "      <td>775 Willow St, San Francisco, CA 94016</td>\n",
       "      <td>1</td>\n",
       "      <td>2.99</td>\n",
       "      <td>1.4950</td>\n",
       "      <td>2.99</td>\n",
       "      <td>1.4950</td>\n",
       "    </tr>\n",
       "    <tr>\n",
       "      <th>2019-01-26 12:16:00</th>\n",
       "      <td>141240</td>\n",
       "      <td>27in 4K Gaming Monitor</td>\n",
       "      <td>5.173671e+12</td>\n",
       "      <td>Vêtements</td>\n",
       "      <td>979 Park St, Los Angeles, CA 90001</td>\n",
       "      <td>1</td>\n",
       "      <td>389.99</td>\n",
       "      <td>128.6967</td>\n",
       "      <td>389.99</td>\n",
       "      <td>261.2933</td>\n",
       "    </tr>\n",
       "    <tr>\n",
       "      <th>2019-01-05 12:04:00</th>\n",
       "      <td>141241</td>\n",
       "      <td>USB-C Charging Cable</td>\n",
       "      <td>8.051737e+12</td>\n",
       "      <td>Vêtements</td>\n",
       "      <td>181 6th St, San Francisco, CA 94016</td>\n",
       "      <td>1</td>\n",
       "      <td>11.95</td>\n",
       "      <td>5.9750</td>\n",
       "      <td>11.95</td>\n",
       "      <td>5.9750</td>\n",
       "    </tr>\n",
       "    <tr>\n",
       "      <th>2019-01-01 10:30:00</th>\n",
       "      <td>141242</td>\n",
       "      <td>Bose SoundSport Headphones</td>\n",
       "      <td>1.508418e+12</td>\n",
       "      <td>Électronique</td>\n",
       "      <td>867 Willow St, Los Angeles, CA 90001</td>\n",
       "      <td>1</td>\n",
       "      <td>99.99</td>\n",
       "      <td>49.9950</td>\n",
       "      <td>99.99</td>\n",
       "      <td>49.9950</td>\n",
       "    </tr>\n",
       "    <tr>\n",
       "      <th>2019-01-22 21:20:00</th>\n",
       "      <td>141243</td>\n",
       "      <td>Apple Airpods Headphones</td>\n",
       "      <td>1.386344e+12</td>\n",
       "      <td>Électronique</td>\n",
       "      <td>657 Johnson St, San Francisco, CA 94016</td>\n",
       "      <td>1</td>\n",
       "      <td>150.00</td>\n",
       "      <td>97.5000</td>\n",
       "      <td>150.00</td>\n",
       "      <td>52.5000</td>\n",
       "    </tr>\n",
       "  </tbody>\n",
       "</table>\n",
       "</div>"
      ],
      "text/plain": [
       "                     Order ID                     Product   Product_ean  \\\n",
       "Order Date                                                                \n",
       "2019-01-22 21:25:00    141234                      iPhone  5.638009e+12   \n",
       "2019-01-28 14:15:00    141235    Lightning Charging Cable  5.563320e+12   \n",
       "2019-01-17 13:33:00    141236            Wired Headphones  2.113973e+12   \n",
       "2019-01-05 20:33:00    141237            27in FHD Monitor  3.069157e+12   \n",
       "2019-01-25 11:59:00    141238            Wired Headphones  9.692681e+12   \n",
       "2019-01-29 20:22:00    141239      AAA Batteries (4-pack)  2.953869e+12   \n",
       "2019-01-26 12:16:00    141240      27in 4K Gaming Monitor  5.173671e+12   \n",
       "2019-01-05 12:04:00    141241        USB-C Charging Cable  8.051737e+12   \n",
       "2019-01-01 10:30:00    141242  Bose SoundSport Headphones  1.508418e+12   \n",
       "2019-01-22 21:20:00    141243    Apple Airpods Headphones  1.386344e+12   \n",
       "\n",
       "                        catégorie                         Purchase Address  \\\n",
       "Order Date                                                                   \n",
       "2019-01-22 21:25:00     Vêtements          944 Walnut St, Boston, MA 02215   \n",
       "2019-01-28 14:15:00  Alimentation         185 Maple St, Portland, OR 97035   \n",
       "2019-01-17 13:33:00     Vêtements    538 Adams St, San Francisco, CA 94016   \n",
       "2019-01-05 20:33:00        Sports       738 10th St, Los Angeles, CA 90001   \n",
       "2019-01-25 11:59:00  Électronique            387 10th St, Austin, TX 73301   \n",
       "2019-01-29 20:22:00  Alimentation   775 Willow St, San Francisco, CA 94016   \n",
       "2019-01-26 12:16:00     Vêtements       979 Park St, Los Angeles, CA 90001   \n",
       "2019-01-05 12:04:00     Vêtements      181 6th St, San Francisco, CA 94016   \n",
       "2019-01-01 10:30:00  Électronique     867 Willow St, Los Angeles, CA 90001   \n",
       "2019-01-22 21:20:00  Électronique  657 Johnson St, San Francisco, CA 94016   \n",
       "\n",
       "                     Quantity Ordered  Price Each  Cost price  turnover  \\\n",
       "Order Date                                                                \n",
       "2019-01-22 21:25:00                 1      700.00    231.0000    700.00   \n",
       "2019-01-28 14:15:00                 1       14.95      7.4750     14.95   \n",
       "2019-01-17 13:33:00                 2       11.99      5.9950     23.98   \n",
       "2019-01-05 20:33:00                 1      149.99     97.4935    149.99   \n",
       "2019-01-25 11:59:00                 1       11.99      5.9950     11.99   \n",
       "2019-01-29 20:22:00                 1        2.99      1.4950      2.99   \n",
       "2019-01-26 12:16:00                 1      389.99    128.6967    389.99   \n",
       "2019-01-05 12:04:00                 1       11.95      5.9750     11.95   \n",
       "2019-01-01 10:30:00                 1       99.99     49.9950     99.99   \n",
       "2019-01-22 21:20:00                 1      150.00     97.5000    150.00   \n",
       "\n",
       "                       margin  \n",
       "Order Date                     \n",
       "2019-01-22 21:25:00  469.0000  \n",
       "2019-01-28 14:15:00    7.4750  \n",
       "2019-01-17 13:33:00   11.9900  \n",
       "2019-01-05 20:33:00   52.4965  \n",
       "2019-01-25 11:59:00    5.9950  \n",
       "2019-01-29 20:22:00    1.4950  \n",
       "2019-01-26 12:16:00  261.2933  \n",
       "2019-01-05 12:04:00    5.9750  \n",
       "2019-01-01 10:30:00   49.9950  \n",
       "2019-01-22 21:20:00   52.5000  "
      ]
     },
     "metadata": {},
     "output_type": "display_data"
    }
   ],
   "source": [
    "# muestra de los primeros elementos del dataframe\n",
    "display(df.head(10))"
   ]
  },
  {
   "cell_type": "code",
   "execution_count": 4,
   "id": "3a001161",
   "metadata": {},
   "outputs": [
    {
     "name": "stdout",
     "output_type": "stream",
     "text": [
      "Primer registro:\n",
      " Order ID                                        147268\n",
      "Product                               Wired Headphones\n",
      "Product_ean                            4648137102501.0\n",
      "catégorie                                       Sports\n",
      "Purchase Address    9 Lake St, New York City, NY 10001\n",
      "Quantity Ordered                                     1\n",
      "Price Each                                       11.99\n",
      "Cost price                                       5.995\n",
      "turnover                                         11.99\n",
      "margin                                           5.995\n",
      "Name: 2019-01-01 03:07:00, dtype: object \n",
      "\n",
      "Último registro:\n",
      "                      Order ID                     Product   Product_ean  \\\n",
      "Order Date                                                                \n",
      "2020-01-01 05:13:00    300519  Bose SoundSport Headphones  3.356582e+12   \n",
      "2020-01-01 05:13:00    300519    Lightning Charging Cable  6.964553e+12   \n",
      "\n",
      "                        catégorie                        Purchase Address  \\\n",
      "Order Date                                                                  \n",
      "2020-01-01 05:13:00  Électronique  657 Spruce St, New York City, NY 10001   \n",
      "2020-01-01 05:13:00     Vêtements  657 Spruce St, New York City, NY 10001   \n",
      "\n",
      "                     Quantity Ordered  Price Each  Cost price  turnover  \\\n",
      "Order Date                                                                \n",
      "2020-01-01 05:13:00                 1       99.99      49.995     99.99   \n",
      "2020-01-01 05:13:00                 1       14.95       7.475     14.95   \n",
      "\n",
      "                     margin  \n",
      "Order Date                   \n",
      "2020-01-01 05:13:00  49.995  \n",
      "2020-01-01 05:13:00   7.475   \n",
      "\n"
     ]
    }
   ],
   "source": [
    "# Inicio y final del periodo.\n",
    "print(\"Primer registro:\\n\", df.loc[df.index.min()], \"\\n\")\n",
    "print(\"Último registro:\\n\", df.loc[df.index.max()], \"\\n\")"
   ]
  },
  {
   "cell_type": "markdown",
   "id": "6f49e897",
   "metadata": {},
   "source": [
    "### - 10 productos más vendidos durante todo el periodo."
   ]
  },
  {
   "cell_type": "code",
   "execution_count": 5,
   "id": "41ced0a3",
   "metadata": {
    "scrolled": true
   },
   "outputs": [
    {
     "name": "stdout",
     "output_type": "stream",
     "text": [
      "Los 10 productos más vendidos durante todo el periodo:\n",
      "\n",
      "Product\n",
      "AAA Batteries (4-pack)        31017\n",
      "AA Batteries (4-pack)         27635\n",
      "USB-C Charging Cable          23975\n",
      "Lightning Charging Cable      23217\n",
      "Wired Headphones              20557\n",
      "Apple Airpods Headphones      15661\n",
      "Bose SoundSport Headphones    13457\n",
      "27in FHD Monitor               7550\n",
      "iPhone                         6849\n",
      "27in 4K Gaming Monitor         6244\n",
      "Name: Quantity Ordered, dtype: int64\n"
     ]
    }
   ],
   "source": [
    "# Se van a cargar los 10 productos que más se vendieron de todo el dataset (1 año)\n",
    "vendidos10 = df.groupby(\"Product\")[\"Quantity Ordered\"].sum().sort_values(ascending=False).head(10)\n",
    "print(\"Los 10 productos más vendidos durante todo el periodo:\\n\")\n",
    "print(vendidos10)"
   ]
  },
  {
   "cell_type": "markdown",
   "id": "69c28ce1",
   "metadata": {},
   "source": [
    "## - 10 productos que generan mayores ventas."
   ]
  },
  {
   "cell_type": "code",
   "execution_count": 6,
   "id": "f854e0f4",
   "metadata": {},
   "outputs": [
    {
     "name": "stdout",
     "output_type": "stream",
     "text": [
      "Los 10 productos que generan mayores ventas:\n",
      "\n",
      "Product\n",
      "Macbook Pro Laptop            3.796962e+10\n",
      "Apple Airpods Headphones      3.652693e+10\n",
      "iPhone                        3.280260e+10\n",
      "Google Phone                  1.833858e+10\n",
      "Bose SoundSport Headphones    1.792966e+10\n",
      "ThinkPad Laptop               1.704847e+10\n",
      "27in 4K Gaming Monitor        1.517066e+10\n",
      "34in Ultrawide Monitor        1.455970e+10\n",
      "27in FHD Monitor              8.501111e+09\n",
      "Lightning Charging Cable      7.517365e+09\n",
      "dtype: float64\n"
     ]
    }
   ],
   "source": [
    "# Se van a guardar los 10 productos que representaron las mayores ventas en el año\n",
    "mayores = df.groupby(\"Product\")[[\"Quantity Ordered\", \"Price Each\"]].sum()\n",
    "mayores10 = mayores[\"Quantity Ordered\"] * mayores[\"Price Each\"]\n",
    "print(\"Los 10 productos que generan mayores ventas:\\n\")\n",
    "print(mayores10.sort_values(ascending=False).head(10))"
   ]
  },
  {
   "cell_type": "markdown",
   "id": "ab157591",
   "metadata": {},
   "source": [
    "## - Los 10 productos que generan mayor utilidad en ventas"
   ]
  },
  {
   "cell_type": "code",
   "execution_count": 7,
   "id": "1ec729fe",
   "metadata": {
    "scrolled": true
   },
   "outputs": [
    {
     "name": "stdout",
     "output_type": "stream",
     "text": [
      "Los 10 productos que generan mayores utilidades:\n",
      "\n",
      "Product\n",
      "Macbook Pro Laptop            2.546119e+10\n",
      "iPhone                        2.200023e+10\n",
      "Apple Airpods Headphones      1.287651e+10\n",
      "Google Phone                  1.230242e+10\n",
      "ThinkPad Laptop               1.142801e+10\n",
      "27in 4K Gaming Monitor        1.018718e+10\n",
      "34in Ultrawide Monitor        9.783410e+09\n",
      "Bose SoundSport Headphones    9.053637e+09\n",
      "Flatscreen TV                 4.667775e+09\n",
      "Lightning Charging Cable      4.029242e+09\n",
      "dtype: float64\n"
     ]
    }
   ],
   "source": [
    "# Se van a guardar los 10 productos que generaron más utilidades en el año\n",
    "utilidades = df.groupby(\"Product\")[[\"Quantity Ordered\", \"margin\"]].sum()\n",
    "mayutil = utilidades[\"Quantity Ordered\"] * utilidades[\"margin\"]\n",
    "print(\"Los 10 productos que generan mayores utilidades:\\n\")\n",
    "print(mayutil.sort_values(ascending=False).head(10))"
   ]
  },
  {
   "cell_type": "markdown",
   "id": "05e3a7c3",
   "metadata": {},
   "source": [
    "## - Utilidad en venta global por periodo mensual"
   ]
  },
  {
   "cell_type": "code",
   "execution_count": 8,
   "id": "0bd9709a",
   "metadata": {
    "scrolled": true
   },
   "outputs": [
    {
     "name": "stdout",
     "output_type": "stream",
     "text": [
      "{'Enero': 1145583.6119999997, 'Febrero': 1384793.9588999997, 'Marzo': 1760350.298, 'Abril': 2137206.9735, 'Mayo': 1986003.9882999996, 'Junio': 1620420.4871, 'Julio': 1660914.6464, 'Agosto': 1412418.6483999998, 'Septiembre': 1314919.1408999998, 'Octubre': 2350533.3620999996, 'Noviembre': 2005133.4616999999, 'Diciembre': 2898749.5895}\n"
     ]
    },
    {
     "data": {
      "image/png": "[encoded data removed]",
      "text/plain": [
       "<Figure size 640x480 with 1 Axes>"
      ]
     },
     "metadata": {},
     "output_type": "display_data"
    }
   ],
   "source": [
    "# Se va a mostrar la venta global por cada mes\n",
    "df_por_mes = df.groupby(by=df.index.month)\n",
    "utilidades = []\n",
    "for mes in df_por_mes:\n",
    "    df_mes = mes[1]\n",
    "    utilidad = df_mes[\"Quantity Ordered\"] * df_mes[\"margin\"]\n",
    "    utilidades.append((mes[0],utilidad.sum()))\n",
    "dictMeses = {1:\"Enero\", 2:\"Febrero\", 3:\"Marzo\", 4:\"Abril\",5:\"Mayo\",6:\"Junio\",7:\"Julio\",8:\"Agosto\",\\\n",
    "             9:\"Septiembre\", 10:\"Octubre\", 11:\"Noviembre\", 12:\"Diciembre\"}\n",
    "dictMesesUtilidades = {dictMeses.get(elemento):valor for elemento, valor in utilidades}\n",
    "print(dictMesesUtilidades)\n",
    "dfMesesUtilidades = pd.DataFrame.from_dict(dictMesesUtilidades, columns=[\"Utilidades\"], orient=\"index\")\n",
    "ax = sns.barplot(data=dfMesesUtilidades, y=\"Utilidades\", x=dfMesesUtilidades.index)\n",
    "ax.set_xticklabels(labels=dfMesesUtilidades.index, rotation=90)\n",
    "plt.show()"
   ]
  },
  {
   "cell_type": "code",
   "execution_count": 9,
   "id": "19abd835",
   "metadata": {},
   "outputs": [
    {
     "name": "stdout",
     "output_type": "stream",
     "text": [
      "Utilidades totales: 21677028.166799996\n"
     ]
    }
   ],
   "source": [
    "# Utilidades totales del año:\n",
    "print(\"Utilidades totales:\", sum([element[1] for element in utilidades]))"
   ]
  },
  {
   "cell_type": "markdown",
   "id": "46d099c3",
   "metadata": {},
   "source": [
    "## - Utilidad en venta global por periodo anual por cada categoría"
   ]
  },
  {
   "cell_type": "code",
   "execution_count": 10,
   "id": "3529d4c9",
   "metadata": {},
   "outputs": [
    {
     "name": "stdout",
     "output_type": "stream",
     "text": [
      "['Vêtements' 'Alimentation' 'Sports' 'Électronique']\n"
     ]
    }
   ],
   "source": [
    "categorias = df[\"catégorie\"].unique()\n",
    "print(categorias)"
   ]
  },
  {
   "cell_type": "code",
   "execution_count": 11,
   "id": "3a85362b",
   "metadata": {},
   "outputs": [
    {
     "name": "stdout",
     "output_type": "stream",
     "text": [
      "<class 'pandas.core.series.Series'>\n",
      "catégorie\n",
      "Alimentation    5.408101e+06\n",
      "Sports          5.442272e+06\n",
      "Vêtements       5.412806e+06\n",
      "Électronique    5.413849e+06\n",
      "Name: utilidades, dtype: float64\n",
      "Utilidades totales: 21677028.1668\n"
     ]
    },
    {
     "data": {
      "image/png": "[encoded data removed]",
      "text/plain": [
       "<Figure size 640x480 with 1 Axes>"
      ]
     },
     "metadata": {},
     "output_type": "display_data"
    }
   ],
   "source": [
    "# Se va a presentar la venta global anual por cada categoría.\n",
    "df_utilidades = df.copy()\n",
    "df_utilidades[\"utilidades\"] = df[\"margin\"] * df[\"Quantity Ordered\"]\n",
    "df_utilidades[\"utilidades\"] = df_utilidades[\"utilidades\"]\n",
    "df_utilidades_cat = df_utilidades.groupby(by=\"catégorie\")[\"utilidades\"].sum()\n",
    "print(type(df_utilidades_cat))\n",
    "print(df_utilidades_cat)\n",
    "ax = sns.barplot(x=df_utilidades_cat.index, y=df_utilidades_cat.values)\n",
    "ax.set_yscale(\"log\")\n",
    "print(\"Utilidades totales:\", df_utilidades_cat.sum())"
   ]
  },
  {
   "cell_type": "markdown",
   "id": "8f0a62ed",
   "metadata": {},
   "source": [
    "# A partir de los conjuntos de datos encontrados determinar y graficar."
   ]
  },
  {
   "cell_type": "markdown",
   "id": "a668953d",
   "metadata": {},
   "source": [
    "## Del producto más vendido encontrar la tendencia en ventas y predecir la venta esperada en los próximos 3 meses"
   ]
  },
  {
   "cell_type": "code",
   "execution_count": 12,
   "id": "b1b197eb",
   "metadata": {},
   "outputs": [
    {
     "name": "stdout",
     "output_type": "stream",
     "text": [
      "Baterias solamente\n"
     ]
    },
    {
     "data": {
      "text/plain": [
       "<Axes: xlabel='Order Date'>"
      ]
     },
     "execution_count": 12,
     "metadata": {},
     "output_type": "execute_result"
    },
    {
     "data": {
      "image/png": "[encoded data removed]",
      "text/plain": [
       "<Figure size 640x480 with 1 Axes>"
      ]
     },
     "metadata": {},
     "output_type": "display_data"
    }
   ],
   "source": [
    "# El producto más vendido era \"AAA Batteries (4-pack)\"\n",
    "# Hay que sacar las ventas (no valor de ventas) que hubieron por mes, \n",
    "# posteriormente usar esos datos regresión.\n",
    "# A modo de ejemplo solamente, haré una regresión lineal (polinomial) a partir de los datos obtenidos\n",
    "# de venta por mes.\n",
    "# Si se requiere, más adelante puedo usar un modelo más complejo para intentar realizar predicciones\n",
    "# más precisas, de momento solo se probará con esto.\n",
    "\n",
    "print(\"Baterias solamente\")\n",
    "df_batteries = df[df[\"Product\"]==\"AAA Batteries (4-pack)\"]\n",
    "df_batt_month = df_batteries.groupby(df_batteries.index.month)[\"Quantity Ordered\"].sum()\n",
    "sns.regplot(x=df_batt_month.index, y=df_batt_month.values, order=3)"
   ]
  },
  {
   "cell_type": "code",
   "execution_count": 13,
   "id": "cc421532",
   "metadata": {},
   "outputs": [
    {
     "name": "stdout",
     "output_type": "stream",
     "text": [
      "Valores predichos [1496.15384615 2203.15384615 2571.02797203 2682.62237762 2620.78321678\n",
      " 2468.35664336 2308.18881119 2223.12587413 2296.01398601 2609.6993007\n",
      " 3247.02797203 4290.84615385]\n"
     ]
    }
   ],
   "source": [
    "polinomial = PolynomialFeatures(degree=3, include_bias=False)\n",
    "X = df_batt_month.index.values.reshape(-1,1)\n",
    "car_polinomial = polinomial.fit_transform(X)\n",
    "y = df_batt_month.values\n",
    "\n",
    "linear = LinearRegression().fit(car_polinomial,y)\n",
    "y_predict = linear.predict(car_polinomial)\n",
    "\n",
    "print(\"Valores predichos\", y_predict)\n",
    "# Considerando los meses siguientes como 13 (enero), 14 (febrero)...\n",
    "# La predicción usando regresión logística es:"
   ]
  },
  {
   "cell_type": "code",
   "execution_count": 14,
   "id": "0d1430f8",
   "metadata": {},
   "outputs": [
    {
     "data": {
      "image/png": "[encoded data removed]",
      "text/plain": [
       "<Figure size 640x480 with 1 Axes>"
      ]
     },
     "metadata": {},
     "output_type": "display_data"
    }
   ],
   "source": [
    "plt.title(\"Diagrama de la función de regresión multipolinomial\")\n",
    "plt.scatter(X, y)\n",
    "plt.plot(X, y_predict, c=\"red\")\n",
    "\n",
    "plt.show()"
   ]
  },
  {
   "cell_type": "code",
   "execution_count": 15,
   "id": "be6a7d17",
   "metadata": {},
   "outputs": [
    {
     "name": "stdout",
     "output_type": "stream",
     "text": [
      "Predicciones para los meses siguientes:\n",
      "\n",
      "13 5823.99999999993\n",
      "14 7929.33566433559\n",
      "15 10689.699300699212\n"
     ]
    }
   ],
   "source": [
    "X_test = [13,14,15]\n",
    "X_test = polinomial.fit_transform(np.array(X_test).reshape(-1,1))\n",
    "y_predict1 = linear.predict(X_test)\n",
    "# Predicciones para los meses siguientes\n",
    "print(\"Predicciones para los meses siguientes:\\n\")\n",
    "for index, element in enumerate(y_predict1):\n",
    "    print(index+13, element)"
   ]
  },
  {
   "cell_type": "markdown",
   "id": "fd92b4a9",
   "metadata": {},
   "source": [
    "## Del producto con el mayor margen de utilidad encontrar la tendencia y predecir la utilidad esperada en los próximos 3 meses"
   ]
  },
  {
   "cell_type": "code",
   "execution_count": 16,
   "id": "1dee2ef7",
   "metadata": {},
   "outputs": [
    {
     "data": {
      "text/plain": [
       "Order Date\n",
       "2019-05-13 13:40:00    Macbook Pro Laptop\n",
       "Name: Product, dtype: object"
      ]
     },
     "execution_count": 16,
     "metadata": {},
     "output_type": "execute_result"
    }
   ],
   "source": [
    "# Obtener el producto con mayor margen de utilidad.\n",
    "producto = df.sort_values(by=\"margin\", ascending=False).head(1)\n",
    "producto[\"Product\"]"
   ]
  },
  {
   "cell_type": "code",
   "execution_count": 17,
   "id": "daf4c4db",
   "metadata": {},
   "outputs": [
    {
     "name": "stdout",
     "output_type": "stream",
     "text": [
      "Macbook Pro Laptop solamente\n",
      "Order Date\n",
      "1     267665.0\n",
      "2     314364.0\n",
      "3     431681.0\n",
      "4     521662.0\n",
      "5     531913.0\n",
      "6     407762.0\n",
      "7     419152.0\n",
      "8     340561.0\n",
      "9     328032.0\n",
      "10    597975.0\n",
      "11    501160.0\n",
      "12    732377.0\n",
      "dtype: float64\n"
     ]
    },
    {
     "name": "stderr",
     "output_type": "stream",
     "text": [
      "C:\\Users\\YURECUARO\\AppData\\Local\\Temp\\ipykernel_46428\\809621041.py:11: FutureWarning: Using the level keyword in DataFrame and Series aggregations is deprecated and will be removed in a future version. Use groupby instead. df.sum(level=1) should use df.groupby(level=1).sum().\n",
      "  print(df_macs_month.sum(level=0))\n"
     ]
    }
   ],
   "source": [
    "# El producto con mayor utilidad es \"Macbook Pro Laptop\"\n",
    "# Hay que sacar la utilidad que hubo por mes (de ese producto), \n",
    "# posteriormente usar esos datos regresión.\n",
    "# A modo de ejemplo solamente, haré una regresión lineal (polinomial) a partir de los datos obtenidos \n",
    "# de venta por mes.\n",
    "# Si se requiere, más adelante puedo usar un modelo más complejo para intentar realizar predicciones.\n",
    "\n",
    "print(\"Macbook Pro Laptop solamente\")\n",
    "df_macs = df[df[\"Product\"]==\"Macbook Pro Laptop\"]\n",
    "df_macs_month = df_macs.groupby(df_macs.index.month).apply(lambda x: x[\"Quantity Ordered\"]*x[\"margin\"])\n",
    "print(df_macs_month.sum(level=0))\n",
    "#sns.regplot(x=df_batt_month.index, y=df_batt_month.values, order=3)\n"
   ]
  },
  {
   "cell_type": "code",
   "execution_count": 18,
   "id": "71b8de76",
   "metadata": {},
   "outputs": [
    {
     "data": {
      "text/plain": [
       "<Axes: >"
      ]
     },
     "execution_count": 18,
     "metadata": {},
     "output_type": "execute_result"
    },
    {
     "data": {
      "image/png": "[encoded data removed]",
      "text/plain": [
       "<Figure size 640x480 with 1 Axes>"
      ]
     },
     "metadata": {},
     "output_type": "display_data"
    }
   ],
   "source": [
    "meses = df_macs_month.groupby(level=0).sum().values\n",
    "valores = df_macs_month.index.get_level_values(0).unique().values\n",
    "\n",
    "sns.regplot(x=valores, y=meses, order=2)"
   ]
  },
  {
   "cell_type": "code",
   "execution_count": 19,
   "id": "367325b9",
   "metadata": {},
   "outputs": [
    {
     "name": "stdout",
     "output_type": "stream",
     "text": [
      "Valores predichos [361344.62087912 364504.46403596 371526.21128871 382409.86263736\n",
      " 397155.41808192 415762.87762238 438232.24125874 464563.50899101\n",
      " 494756.68081918 528811.75674326 566728.73676324 608507.62087912]\n"
     ]
    }
   ],
   "source": [
    "polinomial = PolynomialFeatures(degree=2, include_bias=False)\n",
    "X = np.array(valores).reshape(-1,1)\n",
    "car_polinomial = polinomial.fit_transform(X)\n",
    "y = meses\n",
    "\n",
    "linear = LinearRegression().fit(car_polinomial,y)\n",
    "y_predict = linear.predict(car_polinomial)\n",
    "\n",
    "print(\"Valores predichos\", y_predict)"
   ]
  },
  {
   "cell_type": "code",
   "execution_count": 20,
   "id": "fe34c1c9",
   "metadata": {},
   "outputs": [
    {
     "data": {
      "image/png": "[encoded data removed]",
      "text/plain": [
       "<Figure size 640x480 with 1 Axes>"
      ]
     },
     "metadata": {},
     "output_type": "display_data"
    }
   ],
   "source": [
    "#print(X, X.ravel())\n",
    "plt.title(\"Diagrama de la función de regresión multipolinomial\")\n",
    "plt.scatter(X, y)\n",
    "plt.plot(X, y_predict, c=\"red\")\n",
    "plt.show()"
   ]
  },
  {
   "cell_type": "code",
   "execution_count": 21,
   "id": "b8dc7c7c",
   "metadata": {},
   "outputs": [
    {
     "name": "stdout",
     "output_type": "stream",
     "text": [
      "Predicciones para los meses siguientes:\n",
      "\n",
      "13 654148.409090909\n",
      "14 703651.1013986012\n",
      "15 757015.6978021977\n"
     ]
    }
   ],
   "source": [
    "X_test = [13,14,15]\n",
    "X_test = polinomial.fit_transform(np.array(X_test).reshape(-1,1))\n",
    "y_predict2 = linear.predict(X_test)\n",
    "# Predicciones para los meses siguientes\n",
    "print(\"Predicciones para los meses siguientes:\\n\")\n",
    "for index, element in enumerate(y_predict2):\n",
    "    print(index+13, element)"
   ]
  },
  {
   "cell_type": "markdown",
   "id": "8982b11c",
   "metadata": {},
   "source": [
    "# Diseñar una base de datos simple para almacenar los resultados obtenidos en los ejercicios 1 y 2 "
   ]
  },
  {
   "cell_type": "code",
   "execution_count": 22,
   "id": "bfb10ee1",
   "metadata": {},
   "outputs": [
    {
     "data": {
      "text/plain": [
       "<sqlite3.Cursor at 0x1e82e6f5d50>"
      ]
     },
     "execution_count": 22,
     "metadata": {},
     "output_type": "execute_result"
    }
   ],
   "source": [
    "# Aprovechando que todo está construido sobre pandas, voy a utilizar sqlite.\n",
    "con = sqlite3.connect(\"ejercicios.db\")\n",
    "cur = con.cursor()\n",
    "\n",
    "# Creación de una tabla para guardar las predicciones\n",
    "cur.execute(\"CREATE TABLE IF NOT EXISTS mayorVendidos(Proucto, CantidadDeVentas)\")\n",
    "cur.execute(\"CREATE TABLE IF NOT EXISTS mayorValorVentas(Producto, ValorVentas)\")\n",
    "cur.execute(\"CREATE TABLE IF NOT EXISTS mayorUtilidad(Producto, Utilidad)\")"
   ]
  },
  {
   "cell_type": "code",
   "execution_count": 23,
   "id": "5e1b1f04",
   "metadata": {},
   "outputs": [
    {
     "name": "stdout",
     "output_type": "stream",
     "text": [
      "10 más vendidos\n",
      "\n",
      "Product\n",
      "AAA Batteries (4-pack)        31017\n",
      "AA Batteries (4-pack)         27635\n",
      "USB-C Charging Cable          23975\n",
      "Lightning Charging Cable      23217\n",
      "Wired Headphones              20557\n",
      "Apple Airpods Headphones      15661\n",
      "Bose SoundSport Headphones    13457\n",
      "27in FHD Monitor               7550\n",
      "iPhone                         6849\n",
      "27in 4K Gaming Monitor         6244\n",
      "Name: Quantity Ordered, dtype: int64 \n",
      "\n",
      "10 que generan mayor valor de ventas\n",
      "\n",
      "Product\n",
      "20in Monitor                  1.862464e+09\n",
      "27in 4K Gaming Monitor        1.517066e+10\n",
      "27in FHD Monitor              8.501111e+09\n",
      "34in Ultrawide Monitor        1.455970e+10\n",
      "AA Batteries (4-pack)         2.183598e+09\n",
      "AAA Batteries (4-pack)        1.914263e+09\n",
      "Apple Airpods Headphones      3.652693e+10\n",
      "Bose SoundSport Headphones    1.792966e+10\n",
      "Flatscreen TV                 6.939360e+09\n",
      "Google Phone                  1.833858e+10\n",
      "LG Dryer                      2.503896e+08\n",
      "LG Washing Machine            2.661336e+08\n",
      "Lightning Charging Cable      7.517365e+09\n",
      "Macbook Pro Laptop            3.796962e+10\n",
      "ThinkPad Laptop               1.704847e+10\n",
      "USB-C Charging Cable          6.275237e+09\n",
      "Vareebadd Phone               1.708168e+09\n",
      "Wired Headphones              4.654006e+09\n",
      "iPhone                        3.280260e+10\n",
      "dtype: float64 \n",
      "\n",
      "10 que generan mayor utilidad\n",
      "\n",
      "Product\n",
      "20in Monitor                  6.563130e+08\n",
      "27in 4K Gaming Monitor        1.018718e+10\n",
      "27in FHD Monitor              2.992432e+09\n",
      "34in Ultrawide Monitor        9.783410e+09\n",
      "AA Batteries (4-pack)         1.466291e+09\n",
      "AAA Batteries (4-pack)        1.438271e+09\n",
      "Apple Airpods Headphones      1.287651e+10\n",
      "Bose SoundSport Headphones    9.053637e+09\n",
      "Flatscreen TV                 4.667775e+09\n",
      "Google Phone                  1.230242e+10\n",
      "LG Dryer                      1.677610e+08\n",
      "LG Washing Machine            1.783095e+08\n",
      "Lightning Charging Cable      4.029242e+09\n",
      "Macbook Pro Laptop            2.546119e+10\n",
      "ThinkPad Laptop               1.142801e+10\n",
      "USB-C Charging Cable          3.434434e+09\n",
      "Vareebadd Phone               1.146135e+09\n",
      "Wired Headphones              2.533429e+09\n",
      "iPhone                        2.200023e+10\n",
      "dtype: float64 \n",
      "\n"
     ]
    }
   ],
   "source": [
    "# Recordando:\n",
    "# 10 más vendidos\n",
    "print(\"10 más vendidos\\n\")\n",
    "print(vendidos10, \"\\n\")\n",
    "# 10 que generan mayor valor de ventas\n",
    "print(\"10 que generan mayor valor de ventas\\n\")\n",
    "print(mayores10, \"\\n\")\n",
    "# 10 que generan mayor utilidad\n",
    "print(\"10 que generan mayor utilidad\\n\")\n",
    "print(mayutil, \"\\n\")"
   ]
  },
  {
   "cell_type": "code",
   "execution_count": 24,
   "id": "9f798ac7",
   "metadata": {},
   "outputs": [
    {
     "name": "stdout",
     "output_type": "stream",
     "text": [
      "[('AAA Batteries (4-pack)', 31017), ('AA Batteries (4-pack)', 27635), ('USB-C Charging Cable', 23975), ('Lightning Charging Cable', 23217), ('Wired Headphones', 20557), ('Apple Airpods Headphones', 15661), ('Bose SoundSport Headphones', 13457), ('27in FHD Monitor', 7550), ('iPhone', 6849), ('27in 4K Gaming Monitor', 6244)]\n"
     ]
    },
    {
     "data": {
      "text/plain": [
       "<sqlite3.Cursor at 0x1e82e6f5d50>"
      ]
     },
     "execution_count": 24,
     "metadata": {},
     "output_type": "execute_result"
    }
   ],
   "source": [
    "datosMayorVendidos = [(element1, element2) for element1,element2 in vendidos10.items()]\n",
    "print(datosMayorVendidos)\n",
    "cur.executemany(\"INSERT INTO mayorVendidos VALUES(?,?)\", datosMayorVendidos)"
   ]
  },
  {
   "cell_type": "code",
   "execution_count": 25,
   "id": "cdced07a",
   "metadata": {},
   "outputs": [
    {
     "data": {
      "text/plain": [
       "[('AAA Batteries (4-pack)', 31017),\n",
       " ('AA Batteries (4-pack)', 27635),\n",
       " ('USB-C Charging Cable', 23975),\n",
       " ('Lightning Charging Cable', 23217),\n",
       " ('Wired Headphones', 20557),\n",
       " ('Apple Airpods Headphones', 15661),\n",
       " ('Bose SoundSport Headphones', 13457),\n",
       " ('27in FHD Monitor', 7550),\n",
       " ('iPhone', 6849),\n",
       " ('27in 4K Gaming Monitor', 6244)]"
      ]
     },
     "execution_count": 25,
     "metadata": {},
     "output_type": "execute_result"
    }
   ],
   "source": [
    "res = cur.execute(\"SELECT * FROM mayorVendidos\")\n",
    "res.fetchall()"
   ]
  },
  {
   "cell_type": "code",
   "execution_count": 26,
   "id": "900ed10f",
   "metadata": {},
   "outputs": [
    {
     "name": "stdout",
     "output_type": "stream",
     "text": [
      "[('20in Monitor', 1862463859.71), ('27in 4K Gaming Monitor', 15170657798.800001), ('27in FHD Monitor', 8501110721.500001), ('34in Ultrawide Monitor', 14559704059.81), ('AA Batteries (4-pack)', 2183598316.7999997), ('AAA Batteries (4-pack)', 1914263472.0300002), ('Apple Airpods Headphones', 36526933350.0), ('Bose SoundSport Headphones', 17929659354.75), ('Flatscreen TV', 6939360000.0), ('Google Phone', 18338580000.0), ('LG Dryer', 250389600.0), ('LG Washing Machine', 266133600.0), ('Lightning Charging Cable', 7517365100.7), ('Macbook Pro Laptop', 37969622400.0), ('ThinkPad Laptop', 17048469513.6), ('USB-C Charging Cable', 6275236878.749999), ('Vareebadd Phone', 1708168000.0), ('Wired Headphones', 4654005715.26), ('iPhone', 32802600600.0)]\n"
     ]
    },
    {
     "data": {
      "text/plain": [
       "<sqlite3.Cursor at 0x1e82e6f5d50>"
      ]
     },
     "execution_count": 26,
     "metadata": {},
     "output_type": "execute_result"
    }
   ],
   "source": [
    "datosMayorValorVenta = [(element1, element2) for element1,element2 in mayores10.items()]\n",
    "print(datosMayorValorVenta)\n",
    "cur.executemany(\"INSERT INTO mayorValorVentas VALUES(?,?)\", datosMayorValorVenta)"
   ]
  },
  {
   "cell_type": "code",
   "execution_count": 27,
   "id": "5f0bd0dc",
   "metadata": {},
   "outputs": [
    {
     "data": {
      "text/plain": [
       "[('20in Monitor', 1862463859.71),\n",
       " ('27in 4K Gaming Monitor', 15170657798.800001),\n",
       " ('27in FHD Monitor', 8501110721.500001),\n",
       " ('34in Ultrawide Monitor', 14559704059.81),\n",
       " ('AA Batteries (4-pack)', 2183598316.7999997),\n",
       " ('AAA Batteries (4-pack)', 1914263472.0300002),\n",
       " ('Apple Airpods Headphones', 36526933350.0),\n",
       " ('Bose SoundSport Headphones', 17929659354.75),\n",
       " ('Flatscreen TV', 6939360000.0),\n",
       " ('Google Phone', 18338580000.0),\n",
       " ('LG Dryer', 250389600.0),\n",
       " ('LG Washing Machine', 266133600.0),\n",
       " ('Lightning Charging Cable', 7517365100.7),\n",
       " ('Macbook Pro Laptop', 37969622400.0),\n",
       " ('ThinkPad Laptop', 17048469513.6),\n",
       " ('USB-C Charging Cable', 6275236878.749999),\n",
       " ('Vareebadd Phone', 1708168000.0),\n",
       " ('Wired Headphones', 4654005715.26),\n",
       " ('iPhone', 32802600600.0)]"
      ]
     },
     "execution_count": 27,
     "metadata": {},
     "output_type": "execute_result"
    }
   ],
   "source": [
    "res = cur.execute(\"SELECT * FROM mayorValorVentas\")\n",
    "res.fetchall()"
   ]
  },
  {
   "cell_type": "code",
   "execution_count": 28,
   "id": "fd82e401",
   "metadata": {},
   "outputs": [
    {
     "name": "stdout",
     "output_type": "stream",
     "text": [
      "[('20in Monitor', 656313008.2564999), ('27in 4K Gaming Monitor', 10187181940.3088), ('27in FHD Monitor', 2992431741.2499995), ('34in Ultrawide Monitor', 9783409749.6733), ('AA Batteries (4-pack)', 1466290992.0), ('AAA Batteries (4-pack)', 1438271162.055), ('Apple Airpods Headphones', 12876513352.5), ('Bose SoundSport Headphones', 9053636995.755), ('Flatscreen TV', 4667774961.0), ('Google Phone', 12302415648.0), ('LG Dryer', 167761032.0), ('LG Washing Machine', 178309512.0), ('Lightning Charging Cable', 4029242440.2749996), ('Macbook Pro Laptop', 25461187776.0), ('ThinkPad Laptop', 11428008718.77), ('USB-C Charging Cable', 3434433734.375), ('Vareebadd Phone', 1146135232.0), ('Wired Headphones', 2533428542.755), ('iPhone', 22000227669.0)]\n"
     ]
    },
    {
     "data": {
      "text/plain": [
       "<sqlite3.Cursor at 0x1e82e6f5d50>"
      ]
     },
     "execution_count": 28,
     "metadata": {},
     "output_type": "execute_result"
    }
   ],
   "source": [
    "datosMayorUtilidad = [(element1, element2) for element1,element2 in mayutil.items()]\n",
    "print(datosMayorUtilidad)\n",
    "cur.executemany(\"INSERT INTO mayorUtilidad VALUES(?,?)\", datosMayorUtilidad)"
   ]
  },
  {
   "cell_type": "code",
   "execution_count": 29,
   "id": "bd2abc21",
   "metadata": {},
   "outputs": [
    {
     "data": {
      "text/plain": [
       "[('20in Monitor', 656313008.2564999),\n",
       " ('27in 4K Gaming Monitor', 10187181940.3088),\n",
       " ('27in FHD Monitor', 2992431741.2499995),\n",
       " ('34in Ultrawide Monitor', 9783409749.6733),\n",
       " ('AA Batteries (4-pack)', 1466290992.0),\n",
       " ('AAA Batteries (4-pack)', 1438271162.055),\n",
       " ('Apple Airpods Headphones', 12876513352.5),\n",
       " ('Bose SoundSport Headphones', 9053636995.755),\n",
       " ('Flatscreen TV', 4667774961.0),\n",
       " ('Google Phone', 12302415648.0),\n",
       " ('LG Dryer', 167761032.0),\n",
       " ('LG Washing Machine', 178309512.0),\n",
       " ('Lightning Charging Cable', 4029242440.2749996),\n",
       " ('Macbook Pro Laptop', 25461187776.0),\n",
       " ('ThinkPad Laptop', 11428008718.77),\n",
       " ('USB-C Charging Cable', 3434433734.375),\n",
       " ('Vareebadd Phone', 1146135232.0),\n",
       " ('Wired Headphones', 2533428542.755),\n",
       " ('iPhone', 22000227669.0)]"
      ]
     },
     "execution_count": 29,
     "metadata": {},
     "output_type": "execute_result"
    }
   ],
   "source": [
    "res = cur.execute(\"SELECT * FROM mayorUtilidad\")\n",
    "res.fetchall()"
   ]
  },
  {
   "cell_type": "code",
   "execution_count": 30,
   "id": "9372069c",
   "metadata": {},
   "outputs": [
    {
     "name": "stdout",
     "output_type": "stream",
     "text": [
      "[ 5824.          7929.33566434 10689.6993007 ]\n",
      "[654148.40909091 703651.1013986  757015.6978022 ]\n"
     ]
    }
   ],
   "source": [
    "# Recordando las predicciones\n",
    "print(y_predict1)\n",
    "print(y_predict2)"
   ]
  },
  {
   "cell_type": "code",
   "execution_count": 31,
   "id": "7683f886",
   "metadata": {},
   "outputs": [
    {
     "data": {
      "text/plain": [
       "<sqlite3.Cursor at 0x1e82e6f5d50>"
      ]
     },
     "execution_count": 31,
     "metadata": {},
     "output_type": "execute_result"
    }
   ],
   "source": [
    "cur.execute(\"CREATE TABLE IF NOT EXISTS prediccionVentas(Mes, CantidadDeVentas)\")\n",
    "cur.execute(\"CREATE TABLE IF NOT EXISTS prediccionUtilidades(Mes, Utilidades)\")"
   ]
  },
  {
   "cell_type": "code",
   "execution_count": 32,
   "id": "6f815500",
   "metadata": {},
   "outputs": [
    {
     "name": "stdout",
     "output_type": "stream",
     "text": [
      "[(13, 5823.99999999993), (14, 7929.33566433559), (15, 10689.699300699212)]\n"
     ]
    },
    {
     "data": {
      "text/plain": [
       "<sqlite3.Cursor at 0x1e82e6f5d50>"
      ]
     },
     "execution_count": 32,
     "metadata": {},
     "output_type": "execute_result"
    }
   ],
   "source": [
    "datosVentas = [(element1+13, element2) for element1,element2 in enumerate(y_predict1)]\n",
    "print(datosVentas)\n",
    "cur.executemany(\"INSERT INTO prediccionVentas VALUES(?,?)\", datosVentas)"
   ]
  },
  {
   "cell_type": "code",
   "execution_count": 33,
   "id": "2ee51e9a",
   "metadata": {},
   "outputs": [
    {
     "data": {
      "text/plain": [
       "[(13, 5823.99999999993), (14, 7929.33566433559), (15, 10689.699300699212)]"
      ]
     },
     "execution_count": 33,
     "metadata": {},
     "output_type": "execute_result"
    }
   ],
   "source": [
    "res = cur.execute(\"SELECT * FROM prediccionVentas\")\n",
    "res.fetchall()"
   ]
  },
  {
   "cell_type": "code",
   "execution_count": 34,
   "id": "a5f7527a",
   "metadata": {},
   "outputs": [
    {
     "name": "stdout",
     "output_type": "stream",
     "text": [
      "[(13, 654148.409090909), (14, 703651.1013986012), (15, 757015.6978021977)]\n"
     ]
    },
    {
     "data": {
      "text/plain": [
       "<sqlite3.Cursor at 0x1e82e6f5d50>"
      ]
     },
     "execution_count": 34,
     "metadata": {},
     "output_type": "execute_result"
    }
   ],
   "source": [
    "datosUtilidades = [(element1+13, element2) for element1,element2 in enumerate(y_predict2)]\n",
    "print(datosUtilidades)\n",
    "cur.executemany(\"INSERT INTO prediccionUtilidades VALUES(?,?)\", datosUtilidades)"
   ]
  },
  {
   "cell_type": "code",
   "execution_count": 35,
   "id": "d820fa8b",
   "metadata": {},
   "outputs": [
    {
     "data": {
      "text/plain": [
       "[(13, 654148.409090909), (14, 703651.1013986012), (15, 757015.6978021977)]"
      ]
     },
     "execution_count": 35,
     "metadata": {},
     "output_type": "execute_result"
    }
   ],
   "source": [
    "res = cur.execute(\"SELECT * FROM prediccionUtilidades\")\n",
    "res.fetchall()"
   ]
  },
  {
   "cell_type": "code",
   "execution_count": null,
   "id": "9495b9ee",
   "metadata": {},
   "outputs": [],
   "source": []
  }
 ],
 "metadata": {
  "kernelspec": {
   "display_name": "Python 3",
   "language": "python",
   "name": "python3"
  },
  "language_info": {
   "codemirror_mode": {
    "name": "ipython",
    "version": 3
   },
   "file_extension": ".py",
   "mimetype": "text/x-python",
   "name": "python",
   "nbconvert_exporter": "python",
   "pygments_lexer": "ipython3",
   "version": "3.9.16"
  }
 },
 "nbformat": 4,
 "nbformat_minor": 5
}
